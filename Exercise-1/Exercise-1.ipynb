{
 "cells": [
  {
   "cell_type": "code",
   "execution_count": 6,
   "id": "f09729bc",
   "metadata": {},
   "outputs": [
    {
     "name": "stdout",
     "output_type": "stream",
     "text": [
      "enter name: bhargav\n",
      "enter code: python\n",
      "enter number: 5\n",
      "bhargav python 5\n"
     ]
    }
   ],
   "source": [
    "# Create one class named \"category\" with members \"name\", \"code\", \"no_of_products\"\n",
    "\n",
    "class category:\n",
    "    #class attributes\n",
    "    name= input(\"enter name: \")\n",
    "    code= input(\"enter code: \")\n",
    "    no_of_products=int(input(\"enter number: \"))\n",
    "\n",
    "c = category()\n",
    "print(c.name,c.code,c.no_of_products)\n",
    "\n",
    "\n"
   ]
  },
  {
   "cell_type": "code",
   "execution_count": 7,
   "id": "04f1b995",
   "metadata": {},
   "outputs": [
    {
     "name": "stdout",
     "output_type": "stream",
     "text": [
      "Enter NAME: apple\n",
      "Enter Code: 2\n",
      "Enter Category: fruits\n",
      "Enter Price: 300\n",
      "apple 2 fruits 300\n"
     ]
    }
   ],
   "source": [
    "#Create one class named \"product\" with member \"name\", \"code\", \"category\", \"Price\"\n",
    "\n",
    "class product:\n",
    "    name= input(\"Enter NAME: \")\n",
    "    code = int(input(\"Enter Code: \"))\n",
    "    category = input(\"Enter Category: \")\n",
    "    price = int(input(\"Enter Price: \"))\n",
    "p = product()\n",
    "print(p.name,p.code,p.category,p.price)"
   ]
  },
  {
   "cell_type": "code",
   "execution_count": 84,
   "id": "2cae24db",
   "metadata": {},
   "outputs": [
    {
     "name": "stdout",
     "output_type": "stream",
     "text": [
      "Enter Name: demo1\n",
      "Enter Price: 100\n",
      "Enter Name: demo2\n",
      "Enter Price: 200\n",
      "demo1 100\n",
      "demo2 200\n",
      "abc 30\n"
     ]
    }
   ],
   "source": [
    "# Create three objects of a category.\n",
    "class Category:\n",
    "    def __init__(self,name,price):\n",
    "        self.name = name\n",
    "        self.price = price\n",
    "    def display(self):\n",
    "        print(self.name,self.price)\n",
    "c1 = Category(input(\"Enter Name: \"),int(input(\"Enter Price: \"))) #user-input\n",
    "c2 = Category(input(\"Enter Name: \"),int(input(\"Enter Price: \")))\n",
    "c3 = Category(\"abc\",30) #static\n",
    "c1.display()\n",
    "c2.display()\n",
    "c3.display()"
   ]
  },
  {
   "cell_type": "code",
   "execution_count": null,
   "id": "f09370eb",
   "metadata": {},
   "outputs": [],
   "source": [
    "# Create 10 different products. The code must be unique.\n",
    "\n",
    "class Products:\n",
    "    def __init__(self,productname,productprice):\n",
    "        self.name = productname\n",
    "        self.price = productprice\n",
    "    def displayall(self):\n",
    "        print(\"Productname: \",self.name)\n",
    "        print(\"Productprice: \",self.price)\n",
    "        \n",
    "pr_1 = Products(input(\"Enter Product Name: \"),int(input(\"Enter Product Price: \")))\n",
    "pr_2 = Products(input(\"Enter Product Name: \"),int(input(\"Enter Product Price: \")))\n",
    "pr_3 = Products(input(\"Enter Product Name: \"),int(input(\"Enter Product Price: \")))\n",
    "pr_4 = Products(input(\"Enter Product Name: \"),int(input(\"Enter Product Price: \")))\n",
    "pr_5 = Products(input(\"Enter Product Name: \"),int(input(\"Enter Product Price: \")))\n",
    "pr_6 = Products(input(\"Enter Product Name: \"),int(input(\"Enter Product Price: \")))\n",
    "pr_7 = Products(input(\"Enter Product Name: \"),int(input(\"Enter Product Price: \")))\n",
    "pr_8 = Products(input(\"Enter Product Name: \"),int(input(\"Enter Product Price: \")))\n",
    "pr_9 = Products(input(\"Enter Product Name: \"),int(input(\"Enter Product Price: \")))\n",
    "pr_10 = Products(input(\"Enter Product Name: \"),int(input(\"Enter Product Price: \")))\n",
    "\n",
    "pr_1.displayall()\n",
    "pr_2.displayall()\n",
    "pr_3.displayall()\n",
    "pr_4.displayall()\n",
    "pr_5.displayall()\n",
    "pr_6.displayall()\n",
    "pr_7.displayall()\n",
    "pr_8.displayall()\n",
    "pr_9.displayall()\n",
    "pr_10.displayall()"
   ]
  },
  {
   "cell_type": "code",
   "execution_count": 35,
   "id": "5cff06ac",
   "metadata": {},
   "outputs": [
    {
     "name": "stdout",
     "output_type": "stream",
     "text": [
      "Enter number: 300\n",
      "category is:  child \n",
      " number of books:  120\n",
      "category is:  story \n",
      " number of books:  200\n",
      "category is:  love-story \n",
      " number of books:  400\n",
      "category is:  rockstar \n",
      " number of books:  300\n"
     ]
    }
   ],
   "source": [
    "# Print category info with its no_of_products.\n",
    "book_category_info = {\n",
    "    'child':120,\n",
    "    'story':200,\n",
    "    'love-story':400,\n",
    "    'rockstar':int(input(\"Enter number: \"))#user-input\n",
    "}\n",
    "\n",
    "for c,p in book_category_info.items():\n",
    "    print(\"category is: \",c,\"\\n\",\"number of books: \",p)\n",
    "    \n",
    "#dict methods\n",
    "#dict.keys()=> keys print\n",
    "#dict.values()=> values only print\n",
    "#dict.items()=>keys&values are print"
   ]
  },
  {
   "cell_type": "code",
   "execution_count": 68,
   "id": "6e2f771e",
   "metadata": {},
   "outputs": [
    {
     "name": "stdout",
     "output_type": "stream",
     "text": [
      "[{'product_name': 'PR_3', 'Price': 50}, {'product_name': 'PR_1', 'Price': 200}, {'product_name': 'PR_2', 'Price': 400}]\n",
      "[{'product_name': 'PR_2', 'Price': 400}, {'product_name': 'PR_1', 'Price': 200}, {'product_name': 'PR_3', 'Price': 50}]\n"
     ]
    }
   ],
   "source": [
    "# Sort and Print products based on price ( Price High to Low and Low to High) with all details.\n",
    "\n",
    "products = [\n",
    "     {\"product_name\": \"PR_1\", \"Price\": 200},\n",
    "     {\"product_name\": \"PR_2\", \"Price\": 400},\n",
    "     {\"product_name\": \"PR_3\", \"Price\": 50},\n",
    "]\n",
    "\n",
    "#low to High\n",
    "new = sorted(products,key=lambda a : a['Price'])\n",
    "print(new)\n",
    "\n",
    "\n",
    "#High to low \n",
    "new1 = sorted(products,key=lambda x: x['Price'],reverse=True)\n",
    "print(new1)"
   ]
  },
  {
   "cell_type": "code",
   "execution_count": 90,
   "id": "a4981f0d",
   "metadata": {},
   "outputs": [
    {
     "name": "stdout",
     "output_type": "stream",
     "text": [
      "Enter Word To Search: noru\n",
      "Not Found\n"
     ]
    }
   ],
   "source": [
    "# Search product using its code.\n",
    "list1 = ['demo1','demo2','demo3']\n",
    "s = input(\"Enter Word To Search: \")\n",
    "\n",
    "if s in list1:\n",
    "    print(\"Found this word in List: \",s)\n",
    "else:\n",
    "    print(\"Not Found\")"
   ]
  },
  {
   "cell_type": "code",
   "execution_count": null,
   "id": "b7b357f8",
   "metadata": {},
   "outputs": [],
   "source": []
  }
 ],
 "metadata": {
  "kernelspec": {
   "display_name": "Python 3 (ipykernel)",
   "language": "python",
   "name": "python3"
  },
  "language_info": {
   "codemirror_mode": {
    "name": "ipython",
    "version": 3
   },
   "file_extension": ".py",
   "mimetype": "text/x-python",
   "name": "python",
   "nbconvert_exporter": "python",
   "pygments_lexer": "ipython3",
   "version": "3.9.13"
  }
 },
 "nbformat": 4,
 "nbformat_minor": 5
}
